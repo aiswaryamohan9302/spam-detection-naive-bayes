{
  "nbformat": 4,
  "nbformat_minor": 0,
  "metadata": {
    "colab": {
      "provenance": []
    },
    "kernelspec": {
      "name": "python3",
      "display_name": "Python 3"
    },
    "language_info": {
      "name": "python"
    }
  },
  "cells": [
    {
      "cell_type": "code",
      "execution_count": null,
      "metadata": {
        "colab": {
          "base_uri": "https://localhost:8080/"
        },
        "id": "o4cimm-5LMg6",
        "outputId": "c72d8e9b-f9ae-4587-b5b8-5f127c7b8abb"
      },
      "outputs": [
        {
          "output_type": "stream",
          "name": "stdout",
          "text": [
            "Accuracy: 0.0\n",
            "Prediction for sample text: [1]\n"
          ]
        }
      ],
      "source": [
        "from sklearn.feature_extraction.text import CountVectorizer\n",
        "from sklearn.naive_bayes import MultinomialNB\n",
        "from sklearn.model_selection import train_test_split\n",
        "from sklearn.metrics import accuracy_score\n",
        "\n",
        "# Sample dataset: texts and their labels (1 for spam, 0 for not spam)\n",
        "texts = [\n",
        "    \"Win money now\",\n",
        "    \"Hello friend, how are you?\",\n",
        "    \"Lowest prices on medicines\",\n",
        "    \"Call me now\",\n",
        "    \"Important meeting tomorrow\",\n",
        "    \"You won a lottery, claim now!\"\n",
        "]\n",
        "labels = [1, 0, 1, 0, 0, 1]\n",
        "\n",
        "# Convert texts to feature vectors\n",
        "vectorizer = CountVectorizer()\n",
        "X = vectorizer.fit_transform(texts)\n",
        "\n",
        "# Split data into train and test sets\n",
        "X_train, X_test, y_train, y_test = train_test_split(X, labels, test_size=0.33, random_state=42)\n",
        "\n",
        "# Initialize and train the Naive Bayes classifier\n",
        "clf = MultinomialNB()\n",
        "clf.fit(X_train, y_train)\n",
        "\n",
        "# Predict on test data\n",
        "y_pred = clf.predict(X_test)\n",
        "\n",
        "# Calculate accuracy\n",
        "print(\"Accuracy:\", accuracy_score(y_test, y_pred))\n",
        "\n",
        "# Example prediction\n",
        "sample_text = [\"Congratulations, you won a free ticket!\"]\n",
        "sample_vector = vectorizer.transform(sample_text)\n",
        "print(\"Prediction for sample text:\", clf.predict(sample_vector))  # 1 means spam\n"
      ]
    }
  ]
}